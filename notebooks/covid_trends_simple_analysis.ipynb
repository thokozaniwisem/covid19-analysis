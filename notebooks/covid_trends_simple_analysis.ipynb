{
 "cells": [
  {
   "cell_type": "markdown",
   "id": "afb965ec",
   "metadata": {},
   "source": [
    "# COVID-19 Trends Analysis (OWID)\n",
    "\n",
    "**Goal:** Load a real dataset, run a few clean analyses, and visualize the big picture while keeping it simple and without being fancy.\n",
    "\n",
    "**What you’ll see:**\n",
    "- Clean code cells (pandas + matplotlib)\n",
    "- Clear charts (one per figure)\n",
    "- Short, human explanations in Markdown.\n",
    "- Country comparisons (peaks, fastest rollouts).\n",
    "- A quick look for anomalies (data corrections and big spikes).\n",
    "\n",
    "*Dataset:* `owid-covid-data.csv` (Our World in Data)  \n",
    "*Generated:* 2025-08-27 00:09"
   ]
  },
  {
   "cell_type": "markdown",
   "id": "070ea962",
   "metadata": {},
   "source": [
    "## 1) Setup\n",
    "\n",
    "We'll import just what we need: `pandas` for data, `matplotlib` for charts, and a bit of `numpy` for simple math. No fancy styles, no complications."
   ]
  },
  {
   "cell_type": "code",
   "execution_count": null,
   "id": "35b03a7a",
   "metadata": {},
   "outputs": [],
   "source": [
    "import pandas as pd\n",
    "import numpy as np\n",
    "import matplotlib.pyplot as plt\n",
    "\n",
    "# Make charts a bit bigger by default\n",
    "plt.rcParams['figure.figsize'] = (10, 5)\n",
    "\n",
    "# Load data\n",
    "DATA_PATH = \"/mnt/data/owid-covid-data.csv\"\n",
    "df = pd.read_csv(DATA_PATH, parse_dates=[\"date\"])\n",
    "\n",
    "# Keep only countries (drop OWID_ aggregates)\n",
    "countries = df[~df[\"iso_code\"].astype(str).str.startswith(\"OWID_\")].copy()\n",
    "\n",
    "# Fill NaNs for daily flows to avoid sum issues\n",
    "for col in [\"new_cases\", \"new_deaths\", \"new_vaccinations\"]:\n",
    "    if col in countries.columns:\n",
    "        countries[col] = countries[col].fillna(0)\n",
    "\n",
    "df.head(3)"
   ]
  },
  {
   "cell_type": "markdown",
   "id": "923d3b8e",
   "metadata": {},
   "source": [
    "## 2) Quick Data Check\n",
    "\n",
    "Let’s check the shape and a few key columns so we know what we’re working with."
   ]
  },
  {
   "cell_type": "code",
   "execution_count": null,
   "id": "a63f708e",
   "metadata": {},
   "outputs": [],
   "source": [
    "print(\"Rows:\", len(df), \"| Columns:\", len(df.columns))\n",
    "df[[\"iso_code\",\"continent\",\"location\",\"date\",\"new_cases\",\"new_deaths\",\"people_fully_vaccinated_per_hundred\"]].head(10)"
   ]
  },
  {
   "cell_type": "markdown",
   "id": "fd08d0f2",
   "metadata": {},
   "source": [
    "## 3) Global Trends (Big Picture)\n",
    "\n",
    "First, how did the pandemic evolve globally? We'll sum daily new cases and vaccinations across all locations."
   ]
  },
  {
   "cell_type": "code",
   "execution_count": null,
   "id": "757a153c",
   "metadata": {},
   "outputs": [],
   "source": [
    "# Global new cases per day\n",
    "global_cases = df.groupby(\"date\", as_index=False)[\"new_cases\"].sum()\n",
    "\n",
    "plt.figure()\n",
    "plt.plot(global_cases[\"date\"], global_cases[\"new_cases\"])\n",
    "plt.title(\"Global New COVID-19 Cases per Day\")\n",
    "plt.xlabel(\"Date\")\n",
    "plt.ylabel(\"New Cases\")\n",
    "plt.tight_layout()\n",
    "plt.show()\n",
    "\n",
    "# Global vaccinations per day (using smoothed if available)\n",
    "vacc_col = \"new_vaccinations_smoothed\" if \"new_vaccinations_smoothed\" in df.columns else \"new_vaccinations\"\n",
    "global_vax = df.groupby(\"date\", as_index=False)[vacc_col].sum()\n",
    "\n",
    "plt.figure()\n",
    "plt.plot(global_vax[\"date\"], global_vax[vacc_col])\n",
    "plt.title(\"Global New Vaccinations per Day\")\n",
    "plt.xlabel(\"Date\")\n",
    "plt.ylabel(\"New Vaccinations (Smoothed)\")\n",
    "plt.tight_layout()\n",
    "plt.show()"
   ]
  },
  {
   "cell_type": "markdown",
   "id": "21485108",
   "metadata": {},
   "source": [
    "## 4) Country Comparisons\n",
    "\n",
    "We’ll find:\n",
    "- **Top 10 peaks** in daily new cases *per million* (normalizes by population).\n",
    "- **Fastest vaccine rollout**: countries with the highest peak of smoothed daily vaccinations *per million* (higher peak = faster rollout at any point)."
   ]
  },
  {
   "cell_type": "code",
   "execution_count": null,
   "id": "1827e6ab",
   "metadata": {},
   "outputs": [],
   "source": [
    "# Top peaks: cases per million\n",
    "if \"new_cases_per_million\" in countries.columns:\n",
    "    peak_cases_pm = (\n",
    "        countries.groupby(\"location\")[\"new_cases_per_million\"]\n",
    "        .max()\n",
    "        .sort_values(ascending=False)\n",
    "        .head(10)\n",
    "        .reset_index()\n",
    "    )\n",
    "else:\n",
    "    if \"population\" in countries.columns:\n",
    "        tmp = countries[[\"location\",\"date\",\"new_cases\",\"population\"]].dropna(subset=[\"population\"]).copy()\n",
    "        tmp[\"new_cases_per_million\"] = (tmp[\"new_cases\"] / tmp[\"population\"]) * 1_000_000\n",
    "        peak_cases_pm = tmp.groupby(\"location\")[\"new_cases_per_million\"].max().sort_values(ascending=False).head(10).reset_index()\n",
    "    else:\n",
    "        peak_cases_pm = pd.DataFrame(columns=[\"location\",\"new_cases_per_million\"])\n",
    "\n",
    "peak_cases_pm\n",
    "\n",
    "plt.figure()\n",
    "plt.barh(peak_cases_pm[\"location\"][::-1], peak_cases_pm[\"new_cases_per_million\"][::-1])\n",
    "plt.title(\"Top 10 Countries by Peak New Cases per Million (Daily)\")\n",
    "plt.xlabel(\"Peak Daily New Cases per Million\")\n",
    "plt.ylabel(\"Country\")\n",
    "plt.tight_layout()\n",
    "plt.show()\n",
    "\n",
    "# Fastest vaccine rollout: peak smoothed daily vaccinations per million\n",
    "vpm_col = \"new_vaccinations_smoothed_per_million\" if \"new_vaccinations_smoothed_per_million\" in countries.columns else None\n",
    "\n",
    "if vpm_col:\n",
    "    fastest_vax = (\n",
    "        countries.groupby(\"location\")[vpm_col]\n",
    "        .max()\n",
    "        .sort_values(ascending=False)\n",
    "        .head(10)\n",
    "        .reset_index()\n",
    "    )\n",
    "else:\n",
    "    if \"population\" in countries.columns and \"new_vaccinations_smoothed\" in countries.columns:\n",
    "        tmp = countries[[\"location\",\"date\",\"new_vaccinations_smoothed\",\"population\"]].dropna(subset=[\"population\"]).copy()\n",
    "        tmp[\"new_vax_per_million\"] = (tmp[\"new_vaccinations_smoothed\"] / tmp[\"population\"]) * 1_000_000\n",
    "        fastest_vax = tmp.groupby(\"location\")[\"new_vax_per_million\"].max().sort_values(ascending=False).head(10).reset_index()\n",
    "        vpm_col = \"new_vax_per_million\"\n",
    "    else:\n",
    "        fastest_vax = pd.DataFrame(columns=[\"location\",\"new_vaccinations_smoothed_per_million\"])\n",
    "        vpm_col = \"new_vaccinations_smoothed_per_million\"\n",
    "\n",
    "fastest_vax\n",
    "\n",
    "plt.figure()\n",
    "plt.barh(fastest_vax[\"location\"][::-1], fastest_vax[vpm_col][::-1])\n",
    "plt.title(\"Fastest Vaccine Rollout (Peak Daily New Vaccinations per Million, Smoothed)\")\n",
    "plt.xlabel(\"Peak Daily New Vaccinations per Million\")\n",
    "plt.ylabel(\"Country\")\n",
    "plt.tight_layout()\n",
    "plt.show()"
   ]
  },
  {
   "cell_type": "markdown",
   "id": "836c3b1c",
   "metadata": {},
   "source": [
    "## 5) Quick Anomaly Scan\n",
    "\n",
    "Data isn't perfect. We'll check two simple things:\n",
    "- **Negative daily values** (usually corrections).\n",
    "- **Extreme spikes** in cases per million (z-score > 5 within a country)"
   ]
  },
  {
   "cell_type": "code",
   "execution_count": null,
   "id": "49173e90",
   "metadata": {},
   "outputs": [],
   "source": [
    "notes = []\n",
    "\n",
    "# Negative corrections\n",
    "if \"new_cases_per_million\" in countries.columns:\n",
    "    neg_corr = countries[countries[\"new_cases_per_million\"] < 0].copy()\n",
    "    if not neg_corr.empty:\n",
    "        notes.append(f\"Found {len(neg_corr)} rows with negative new_cases_per_million (data corrections).\")\n",
    "    else:\n",
    "        notes.append(\"No negative new_cases_per_million values found.\")\n",
    "else:\n",
    "    notes.append(\"Column new_cases_per_million not available.\")\n",
    "\n",
    "# Spike detection\n",
    "import numpy as np\n",
    "\n",
    "def spikes_for_group(g):\n",
    "    vals = g[\"new_cases_per_million\"].fillna(0).values if \"new_cases_per_million\" in g else np.array([])\n",
    "    if len(vals) < 10 or np.nanstd(vals) == 0:\n",
    "        return pd.Series([0, np.nan, pd.NaT], index=[\"num_spikes\",\"max_val\",\"date_max\"])\n",
    "    z = (vals - np.nanmean(vals)) / (np.nanstd(vals) + 1e-9)\n",
    "    spikes_idx = np.where(z > 5)[0]\n",
    "    if len(spikes_idx) == 0:\n",
    "        return pd.Series([0, np.nan, pd.NaT], index=[\"num_spikes\",\"max_val\",\"date_max\"])\n",
    "    max_idx = spikes_idx[np.argmax(vals[spikes_idx])]\n",
    "    return pd.Series([len(spikes_idx), vals[max_idx], g.iloc[max_idx][\"date\"]], index=[\"num_spikes\",\"max_val\",\"date_max\"])\n",
    "\n",
    "if \"new_cases_per_million\" in countries.columns:\n",
    "    spike_summary = countries.groupby(\"location\").apply(spikes_for_group).reset_index()\n",
    "    big_spikers = spike_summary.sort_values(by=[\"num_spikes\",\"max_val\"], ascending=False).head(10)\n",
    "else:\n",
    "    big_spikers = pd.DataFrame(columns=[\"location\",\"num_spikes\",\"max_val\",\"date_max\"])\n",
    "\n",
    "notes, big_spikers.head(10)"
   ]
  },
  {
   "cell_type": "markdown",
   "id": "223fb31d",
   "metadata": {},
   "source": [
    "## 6) What Stood Out\n",
    "\n",
    "- The **global cases line** has clear waves — big winter spikes in many regions, then declines, then new variants created fresh peaks.\n",
    "- Vaccination picked up fast after initial rollouts, then **slowed** as demand and logistics varied by region\n",
    "- The **peak cases per million** list is often dominated by **small countries/territories** or those with intense short waves per-million metrics can look huge even if absolute numbers are small\n",
    "- **Fast vaccine rollouts** were driven by early access + efficient logistics (e.g., small, high income countries or places with centralized healthcare).\n",
    "- **Anomalies** (negatives/spikes) are normal in public health data they usually mean backfills, audits, or method changes."
   ]
  },
  {
   "cell_type": "markdown",
   "id": "5e0672ac",
   "metadata": {},
   "source": [
    "## 7) Next Steps (Optional)\n",
    "\n",
    "- Slice by **continent** or **income group** for fairer comparisons.\n",
    "- Compare **cases vs. deaths** to see severity patterns across waves.\n",
    "- Add **rolling averages** for smoother lines when presenting to non-technical audiences.\n",
    "- Export a **PDF** or a **PowerPoint** deck with screenshots (we included a ready-made PPT with key charts).\n",
    "\n",
    "**Done**"
   ]
  }
 ],
 "metadata": {
  "language_info": {
   "name": "python"
  }
 },
 "nbformat": 4,
 "nbformat_minor": 5
}
